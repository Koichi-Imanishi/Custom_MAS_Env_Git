{
 "cells": [
  {
   "cell_type": "code",
   "execution_count": 19,
   "metadata": {},
   "outputs": [],
   "source": [
    "import numpy as np\n",
    "from collections import deque, defaultdict\n",
    "import torch\n",
    "import socialforce\n",
    "import matplotlib.pyplot as plt\n",
    "import pandas as pd\n",
    "import stateutils"
   ]
  },
  {
   "cell_type": "code",
   "execution_count": 3,
   "metadata": {},
   "outputs": [],
   "source": [
    "DESTINATION_OPT1 = (torch.tensor([100.0, -5.0]), torch.tensor([100.0, 5.0]))"
   ]
  },
  {
   "cell_type": "code",
   "execution_count": 4,
   "metadata": {},
   "outputs": [],
   "source": [
    "dest_queues = defaultdict(lambda: deque([DESTINATION_OPT1]))"
   ]
  },
  {
   "cell_type": "code",
   "execution_count": 5,
   "metadata": {},
   "outputs": [
    {
     "data": {
      "text/plain": [
       "(tensor([100.,  -5.]), tensor([100.,   5.]))"
      ]
     },
     "execution_count": 5,
     "metadata": {},
     "output_type": "execute_result"
    }
   ],
   "source": [
    "dest_queues[0].popleft()"
   ]
  },
  {
   "cell_type": "code",
   "execution_count": 6,
   "metadata": {},
   "outputs": [
    {
     "data": {
      "text/plain": [
       "1"
      ]
     },
     "execution_count": 6,
     "metadata": {},
     "output_type": "execute_result"
    }
   ],
   "source": [
    "len(dest_queues)"
   ]
  },
  {
   "cell_type": "code",
   "execution_count": 21,
   "metadata": {},
   "outputs": [
    {
     "data": {
      "text/plain": [
       "tensor([-5.,  1.,  5.,  1.])"
      ]
     },
     "execution_count": 21,
     "metadata": {},
     "output_type": "execute_result"
    }
   ],
   "source": [
    "DESTINATION_OPT1 = torch.tensor([-5.0, 1.0, 5.0, 1.0])\n",
    "\n",
    "# デフォルトの目的地リスト(queue)を作成\n",
    "DESTINATION_LIST1 = deque([DESTINATION_OPT1])\n",
    "a = DESTINATION_LIST1.popleft()\n",
    "a"
   ]
  },
  {
   "cell_type": "code",
   "execution_count": 22,
   "metadata": {},
   "outputs": [
    {
     "data": {
      "text/plain": [
       "tensor([[-5.,  1.,  5.,  1.],\n",
       "        [-5.,  1.,  5.,  1.],\n",
       "        [-5.,  1.,  5.,  1.],\n",
       "        [-5.,  1.,  5.,  1.],\n",
       "        [-5.,  1.,  5.,  1.],\n",
       "        [-5.,  1.,  5.,  1.],\n",
       "        [-5.,  1.,  5.,  1.],\n",
       "        [-5.,  1.,  5.,  1.],\n",
       "        [-5.,  1.,  5.,  1.],\n",
       "        [-5.,  1.,  5.,  1.],\n",
       "        [-5.,  1.,  5.,  1.],\n",
       "        [-5.,  1.,  5.,  1.],\n",
       "        [-5.,  1.,  5.,  1.],\n",
       "        [-5.,  1.,  5.,  1.],\n",
       "        [-5.,  1.,  5.,  1.],\n",
       "        [-5.,  1.,  5.,  1.],\n",
       "        [-5.,  1.,  5.,  1.],\n",
       "        [-5.,  1.,  5.,  1.],\n",
       "        [-5.,  1.,  5.,  1.],\n",
       "        [-5.,  1.,  5.,  1.],\n",
       "        [-5.,  1.,  5.,  1.],\n",
       "        [-5.,  1.,  5.,  1.],\n",
       "        [-5.,  1.,  5.,  1.],\n",
       "        [-5.,  1.,  5.,  1.],\n",
       "        [-5.,  1.,  5.,  1.],\n",
       "        [-5.,  1.,  5.,  1.],\n",
       "        [-5.,  1.,  5.,  1.],\n",
       "        [-5.,  1.,  5.,  1.],\n",
       "        [-5.,  1.,  5.,  1.],\n",
       "        [-5.,  1.,  5.,  1.],\n",
       "        [-5.,  1.,  5.,  1.],\n",
       "        [-5.,  1.,  5.,  1.],\n",
       "        [-5.,  1.,  5.,  1.],\n",
       "        [-5.,  1.,  5.,  1.],\n",
       "        [-5.,  1.,  5.,  1.],\n",
       "        [-5.,  1.,  5.,  1.],\n",
       "        [-5.,  1.,  5.,  1.],\n",
       "        [-5.,  1.,  5.,  1.],\n",
       "        [-5.,  1.,  5.,  1.],\n",
       "        [-5.,  1.,  5.,  1.],\n",
       "        [-5.,  1.,  5.,  1.],\n",
       "        [-5.,  1.,  5.,  1.],\n",
       "        [-5.,  1.,  5.,  1.],\n",
       "        [-5.,  1.,  5.,  1.],\n",
       "        [-5.,  1.,  5.,  1.]])"
      ]
     },
     "execution_count": 22,
     "metadata": {},
     "output_type": "execute_result"
    }
   ],
   "source": [
    "destinations = torch.empty((45, 4))\n",
    "destinations[:, :] = DESTINATION_OPT1\n",
    "destinations"
   ]
  },
  {
   "cell_type": "code",
   "execution_count": 9,
   "metadata": {},
   "outputs": [
    {
     "data": {
      "text/plain": [
       "tensor([-5.,  0.])"
      ]
     },
     "execution_count": 9,
     "metadata": {},
     "output_type": "execute_result"
    }
   ],
   "source": [
    "dest = destinations[1]\n",
    "dest[0:2]"
   ]
  },
  {
   "cell_type": "code",
   "execution_count": 10,
   "metadata": {},
   "outputs": [
    {
     "data": {
      "text/plain": [
       "tensor([True])"
      ]
     },
     "execution_count": 10,
     "metadata": {},
     "output_type": "execute_result"
    }
   ],
   "source": [
    "on_calc = torch.ones((45, 1))\n",
    "on_calc[1] == 1"
   ]
  },
  {
   "cell_type": "code",
   "execution_count": 11,
   "metadata": {},
   "outputs": [],
   "source": [
    "state = torch.zeros((45, 6))"
   ]
  },
  {
   "cell_type": "code",
   "execution_count": 242,
   "metadata": {},
   "outputs": [
    {
     "data": {
      "text/plain": [
       "tensor(False)"
      ]
     },
     "execution_count": 242,
     "metadata": {},
     "output_type": "execute_result"
    }
   ],
   "source": [
    "torch.sum(dest[0:2] * dest[0:2]) < 0"
   ]
  },
  {
   "cell_type": "code",
   "execution_count": 23,
   "metadata": {},
   "outputs": [
    {
     "data": {
      "text/plain": [
       "tensor(1.)"
      ]
     },
     "execution_count": 23,
     "metadata": {},
     "output_type": "execute_result"
    }
   ],
   "source": [
    "stateutils.calc_distance_1(destinations[1], state[1])"
   ]
  },
  {
   "cell_type": "code",
   "execution_count": 24,
   "metadata": {},
   "outputs": [
    {
     "data": {
      "text/plain": [
       "tensor([[0., 1.],\n",
       "        [0., 1.],\n",
       "        [0., 1.],\n",
       "        [0., 1.],\n",
       "        [0., 1.],\n",
       "        [0., 1.],\n",
       "        [0., 1.],\n",
       "        [0., 1.],\n",
       "        [0., 1.],\n",
       "        [0., 1.],\n",
       "        [0., 1.],\n",
       "        [0., 1.],\n",
       "        [0., 1.],\n",
       "        [0., 1.],\n",
       "        [0., 1.],\n",
       "        [0., 1.],\n",
       "        [0., 1.],\n",
       "        [0., 1.],\n",
       "        [0., 1.],\n",
       "        [0., 1.],\n",
       "        [0., 1.],\n",
       "        [0., 1.],\n",
       "        [0., 1.],\n",
       "        [0., 1.],\n",
       "        [0., 1.],\n",
       "        [0., 1.],\n",
       "        [0., 1.],\n",
       "        [0., 1.],\n",
       "        [0., 1.],\n",
       "        [0., 1.],\n",
       "        [0., 1.],\n",
       "        [0., 1.],\n",
       "        [0., 1.],\n",
       "        [0., 1.],\n",
       "        [0., 1.],\n",
       "        [0., 1.],\n",
       "        [0., 1.],\n",
       "        [0., 1.],\n",
       "        [0., 1.],\n",
       "        [0., 1.],\n",
       "        [0., 1.],\n",
       "        [0., 1.],\n",
       "        [0., 1.],\n",
       "        [0., 1.],\n",
       "        [0., 1.]])"
      ]
     },
     "execution_count": 24,
     "metadata": {},
     "output_type": "execute_result"
    }
   ],
   "source": [
    "stateutils.nearest_point(destinations, state)"
   ]
  },
  {
   "cell_type": "code",
   "execution_count": 27,
   "metadata": {},
   "outputs": [],
   "source": [
    "DESTINATION_OPT1 = torch.tensor([5.0, 0.0, 5.0, 5.0])\n",
    "DESTINATION_OPT2 = torch.tensor([0.0, 5.0, 5.0, 5.0])\n",
    "DESTINATION_OPT3 = torch.tensor([0.0, 10.0, 5.0, 10.0])\n",
    "DESTINATION_OPT4 = torch.tensor([5.0, 10.0, 5.0, 15.0])\n",
    "DESTINATION_QUEUE1 = deque([DESTINATION_OPT1, DESTINATION_OPT2, DESTINATION_OPT3, DESTINATION_OPT4])\n",
    "dest_queues = {0:DESTINATION_QUEUE1, 1:DESTINATION_QUEUE1}"
   ]
  },
  {
   "cell_type": "code",
   "execution_count": 29,
   "metadata": {},
   "outputs": [
    {
     "data": {
      "text/plain": [
       "4"
      ]
     },
     "execution_count": 29,
     "metadata": {},
     "output_type": "execute_result"
    }
   ],
   "source": [
    "len(dest_queues[0])"
   ]
  },
  {
   "cell_type": "code",
   "execution_count": 180,
   "metadata": {},
   "outputs": [
    {
     "data": {
      "text/plain": [
       "tensor([[  7.,   2.],\n",
       "        [  7.,   2.],\n",
       "        [  7.,   2.],\n",
       "        [  7.,   2.],\n",
       "        [  7.,   2.],\n",
       "        [  2.,   2.],\n",
       "        [  2.,   2.],\n",
       "        [  2.,   2.],\n",
       "        [  2.,   2.],\n",
       "        [  2.,   2.],\n",
       "        [  2.,   2.],\n",
       "        [  2.,   2.],\n",
       "        [  2.,   2.],\n",
       "        [  2.,   2.],\n",
       "        [  2.,   2.],\n",
       "        [  2.,   2.],\n",
       "        [  2.,   2.],\n",
       "        [  2.,   2.],\n",
       "        [  2.,   2.],\n",
       "        [  2.,   2.],\n",
       "        [  2.,   2.],\n",
       "        [  2.,   2.],\n",
       "        [  2.,   2.],\n",
       "        [-10.,   2.],\n",
       "        [-10.,   2.],\n",
       "        [-10.,   2.],\n",
       "        [-10.,   2.],\n",
       "        [-10.,   2.],\n",
       "        [-10.,   2.],\n",
       "        [-10.,   2.],\n",
       "        [-10.,   2.],\n",
       "        [-10.,   2.],\n",
       "        [-10.,   2.],\n",
       "        [-10.,   2.],\n",
       "        [-10.,   2.],\n",
       "        [-10.,   2.],\n",
       "        [-10.,   2.],\n",
       "        [-10.,   2.],\n",
       "        [-10.,   2.],\n",
       "        [-10.,   2.],\n",
       "        [-10.,   2.],\n",
       "        [-10.,   2.],\n",
       "        [-10.,   2.],\n",
       "        [-10.,   2.],\n",
       "        [-10.,   2.]])"
      ]
     },
     "execution_count": 180,
     "metadata": {},
     "output_type": "execute_result"
    }
   ],
   "source": [
    "p = torch.tensor([0.0, 2.0])\n",
    "ps = torch.empty((45, 2))\n",
    "ps[:5, :] = torch.tensor([7.0, 2.0])\n",
    "ps[5:23, :] = torch.tensor([2.0, 2.0])\n",
    "ps[23:, :] = torch.tensor([-10.0, 2.0])\n",
    "a = destinations[:, 0:2]\n",
    "b = destinations[:, 2:4]\n",
    "ps"
   ]
  },
  {
   "cell_type": "code",
   "execution_count": 181,
   "metadata": {},
   "outputs": [],
   "source": [
    "ap = ps - a\n",
    "ab = b - a\n",
    "ba = a - b\n",
    "bp = ps - b"
   ]
  },
  {
   "cell_type": "code",
   "execution_count": 172,
   "metadata": {},
   "outputs": [
    {
     "data": {
      "text/plain": [
       "tensor([[12.,  2.],\n",
       "        [12.,  2.],\n",
       "        [12.,  2.],\n",
       "        [12.,  2.],\n",
       "        [12.,  2.],\n",
       "        [ 7.,  2.],\n",
       "        [ 7.,  2.],\n",
       "        [ 7.,  2.],\n",
       "        [ 7.,  2.],\n",
       "        [ 7.,  2.],\n",
       "        [ 7.,  2.],\n",
       "        [ 7.,  2.],\n",
       "        [ 7.,  2.],\n",
       "        [ 7.,  2.],\n",
       "        [ 7.,  2.],\n",
       "        [ 7.,  2.],\n",
       "        [ 7.,  2.],\n",
       "        [ 7.,  2.],\n",
       "        [ 7.,  2.],\n",
       "        [ 7.,  2.],\n",
       "        [ 7.,  2.],\n",
       "        [ 7.,  2.],\n",
       "        [ 7.,  2.],\n",
       "        [-5.,  2.],\n",
       "        [-5.,  2.],\n",
       "        [-5.,  2.],\n",
       "        [-5.,  2.],\n",
       "        [-5.,  2.],\n",
       "        [-5.,  2.],\n",
       "        [-5.,  2.],\n",
       "        [-5.,  2.],\n",
       "        [-5.,  2.],\n",
       "        [-5.,  2.],\n",
       "        [-5.,  2.],\n",
       "        [-5.,  2.],\n",
       "        [-5.,  2.],\n",
       "        [-5.,  2.],\n",
       "        [-5.,  2.],\n",
       "        [-5.,  2.],\n",
       "        [-5.,  2.],\n",
       "        [-5.,  2.],\n",
       "        [-5.,  2.],\n",
       "        [-5.,  2.],\n",
       "        [-5.,  2.],\n",
       "        [-5.,  2.]])"
      ]
     },
     "execution_count": 172,
     "metadata": {},
     "output_type": "execute_result"
    }
   ],
   "source": [
    "ap"
   ]
  },
  {
   "cell_type": "code",
   "execution_count": 173,
   "metadata": {},
   "outputs": [
    {
     "data": {
      "text/plain": [
       "tensor([[10.,  0.],\n",
       "        [10.,  0.],\n",
       "        [10.,  0.],\n",
       "        [10.,  0.],\n",
       "        [10.,  0.],\n",
       "        [10.,  0.],\n",
       "        [10.,  0.],\n",
       "        [10.,  0.],\n",
       "        [10.,  0.],\n",
       "        [10.,  0.],\n",
       "        [10.,  0.],\n",
       "        [10.,  0.],\n",
       "        [10.,  0.],\n",
       "        [10.,  0.],\n",
       "        [10.,  0.],\n",
       "        [10.,  0.],\n",
       "        [10.,  0.],\n",
       "        [10.,  0.],\n",
       "        [10.,  0.],\n",
       "        [10.,  0.],\n",
       "        [10.,  0.],\n",
       "        [10.,  0.],\n",
       "        [10.,  0.],\n",
       "        [10.,  0.],\n",
       "        [10.,  0.],\n",
       "        [10.,  0.],\n",
       "        [10.,  0.],\n",
       "        [10.,  0.],\n",
       "        [10.,  0.],\n",
       "        [10.,  0.],\n",
       "        [10.,  0.],\n",
       "        [10.,  0.],\n",
       "        [10.,  0.],\n",
       "        [10.,  0.],\n",
       "        [10.,  0.],\n",
       "        [10.,  0.],\n",
       "        [10.,  0.],\n",
       "        [10.,  0.],\n",
       "        [10.,  0.],\n",
       "        [10.,  0.],\n",
       "        [10.,  0.],\n",
       "        [10.,  0.],\n",
       "        [10.,  0.],\n",
       "        [10.,  0.],\n",
       "        [10.,  0.]])"
      ]
     },
     "execution_count": 173,
     "metadata": {},
     "output_type": "execute_result"
    }
   ],
   "source": [
    "ab"
   ]
  },
  {
   "cell_type": "code",
   "execution_count": 182,
   "metadata": {},
   "outputs": [],
   "source": [
    "ai_norm = torch.sum(ap * ab, dim=1)/torch.norm(ab, dim=1)"
   ]
  },
  {
   "cell_type": "code",
   "execution_count": 204,
   "metadata": {},
   "outputs": [],
   "source": [
    "PATTERN_A = (torch.sum(ap * ab, dim=1) < 0).repeat(2, 1).T\n",
    "PATTERN_B = ((torch.sum(ap * ab, dim=1) >= 0) & (torch.sum(bp * ba, dim=1) < 0)).repeat(2, 1).T\n",
    "PATTERN_C = ((torch.sum(ap * ab, dim=1) >= 0) & (torch.sum(bp * ba, dim=1) >= 0)).repeat(2, 1).T\n",
    "\n",
    "PATTERN_A_d = (torch.sum(ap * ab, dim=1) < 0)\n",
    "PATTERN_B_d = ((torch.sum(ap * ab, dim=1) >= 0) & (torch.sum(bp * ba, dim=1) < 0))\n",
    "PATTERN_C_d = ((torch.sum(ap * ab, dim=1) >= 0) & (torch.sum(bp * ba, dim=1) >= 0))"
   ]
  },
  {
   "cell_type": "code",
   "execution_count": 206,
   "metadata": {},
   "outputs": [
    {
     "data": {
      "text/plain": [
       "tensor([2.8284, 2.8284, 2.8284, 2.8284, 2.8284, 2.0000, 2.0000, 2.0000, 2.0000,\n",
       "        2.0000, 2.0000, 2.0000, 2.0000, 2.0000, 2.0000, 2.0000, 2.0000, 2.0000,\n",
       "        2.0000, 2.0000, 2.0000, 2.0000, 2.0000, 5.3852, 5.3852, 5.3852, 5.3852,\n",
       "        5.3852, 5.3852, 5.3852, 5.3852, 5.3852, 5.3852, 5.3852, 5.3852, 5.3852,\n",
       "        5.3852, 5.3852, 5.3852, 5.3852, 5.3852, 5.3852, 5.3852, 5.3852, 5.3852])"
      ]
     },
     "execution_count": 206,
     "metadata": {},
     "output_type": "execute_result"
    }
   ],
   "source": [
    "distance = torch.norm(ap, dim=1) * PATTERN_A_d + torch.norm(bp, dim=1) * PATTERN_B_d + torch.norm(ps - (a + (ab/torch.norm(ab, dim=1).repeat(2, 1).T)*ai_norm.repeat(2, 1).T), dim=1) * PATTERN_C_d\n",
    "distance"
   ]
  },
  {
   "cell_type": "code",
   "execution_count": null,
   "metadata": {},
   "outputs": [
    {
     "data": {
      "text/plain": [
       "tensor([ True,  True,  True,  True,  True,  True,  True,  True,  True,  True,\n",
       "         True,  True,  True,  True,  True,  True,  True,  True,  True,  True,\n",
       "         True,  True,  True, False, False, False, False, False, False, False,\n",
       "        False, False, False, False, False, False, False, False, False, False,\n",
       "        False, False, False, False, False])"
      ]
     },
     "execution_count": 207,
     "metadata": {},
     "output_type": "execute_result"
    }
   ],
   "source": []
  },
  {
   "cell_type": "code",
   "execution_count": 200,
   "metadata": {},
   "outputs": [
    {
     "data": {
      "text/plain": [
       "tensor([[ 5.,  0.],\n",
       "        [ 5.,  0.],\n",
       "        [ 5.,  0.],\n",
       "        [ 5.,  0.],\n",
       "        [ 5.,  0.],\n",
       "        [ 2.,  0.],\n",
       "        [ 2.,  0.],\n",
       "        [ 2.,  0.],\n",
       "        [ 2.,  0.],\n",
       "        [ 2.,  0.],\n",
       "        [ 2.,  0.],\n",
       "        [ 2.,  0.],\n",
       "        [ 2.,  0.],\n",
       "        [ 2.,  0.],\n",
       "        [ 2.,  0.],\n",
       "        [ 2.,  0.],\n",
       "        [ 2.,  0.],\n",
       "        [ 2.,  0.],\n",
       "        [ 2.,  0.],\n",
       "        [ 2.,  0.],\n",
       "        [ 2.,  0.],\n",
       "        [ 2.,  0.],\n",
       "        [ 2.,  0.],\n",
       "        [-5.,  0.],\n",
       "        [-5.,  0.],\n",
       "        [-5.,  0.],\n",
       "        [-5.,  0.],\n",
       "        [-5.,  0.],\n",
       "        [-5.,  0.],\n",
       "        [-5.,  0.],\n",
       "        [-5.,  0.],\n",
       "        [-5.,  0.],\n",
       "        [-5.,  0.],\n",
       "        [-5.,  0.],\n",
       "        [-5.,  0.],\n",
       "        [-5.,  0.],\n",
       "        [-5.,  0.],\n",
       "        [-5.,  0.],\n",
       "        [-5.,  0.],\n",
       "        [-5.,  0.],\n",
       "        [-5.,  0.],\n",
       "        [-5.,  0.],\n",
       "        [-5.,  0.],\n",
       "        [-5.,  0.],\n",
       "        [-5.,  0.]])"
      ]
     },
     "execution_count": 200,
     "metadata": {},
     "output_type": "execute_result"
    }
   ],
   "source": [
    "neighbor_point = a * PATTERN_A + b * PATTERN_B + (a + (ab/torch.norm(ab, dim=1).repeat(2, 1).T)*ai_norm.repeat(2, 1).T) * PATTERN_C\n",
    "neighbor_point"
   ]
  },
  {
   "cell_type": "code",
   "execution_count": 151,
   "metadata": {},
   "outputs": [],
   "source": [
    "ai_norm = torch.sum(ap * ab, dim=1)/torch.norm(ab, dim=1)\n",
    "neighbor_point = a + (ab)/(torch.norm(ab, dim=1)*ai_norm).repeat(2, 1).T"
   ]
  },
  {
   "cell_type": "code",
   "execution_count": 155,
   "metadata": {},
   "outputs": [
    {
     "data": {
      "text/plain": [
       "tensor([[ 0.2000,  0.0000],\n",
       "        [ 0.2000,  0.0000],\n",
       "        [ 0.2000,  0.0000],\n",
       "        [ 0.2000,  0.0000],\n",
       "        [ 0.2000,  0.0000],\n",
       "        [ 0.2000,  0.0000],\n",
       "        [ 0.2000,  0.0000],\n",
       "        [ 0.2000,  0.0000],\n",
       "        [ 0.2000,  0.0000],\n",
       "        [ 0.2000,  0.0000],\n",
       "        [ 0.2000,  0.0000],\n",
       "        [ 0.2000,  0.0000],\n",
       "        [ 0.2000,  0.0000],\n",
       "        [ 0.2000,  0.0000],\n",
       "        [ 0.2000,  0.0000],\n",
       "        [ 0.2000,  0.0000],\n",
       "        [ 0.2000,  0.0000],\n",
       "        [ 0.2000,  0.0000],\n",
       "        [ 0.2000,  0.0000],\n",
       "        [ 0.2000,  0.0000],\n",
       "        [ 0.2000,  0.0000],\n",
       "        [ 0.2000,  0.0000],\n",
       "        [ 0.2000,  0.0000],\n",
       "        [-0.2000, -0.0000],\n",
       "        [-0.2000, -0.0000],\n",
       "        [-0.2000, -0.0000],\n",
       "        [-0.2000, -0.0000],\n",
       "        [-0.2000, -0.0000],\n",
       "        [-0.2000, -0.0000],\n",
       "        [-0.2000, -0.0000],\n",
       "        [-0.2000, -0.0000],\n",
       "        [-0.2000, -0.0000],\n",
       "        [-0.2000, -0.0000],\n",
       "        [-0.2000, -0.0000],\n",
       "        [-0.2000, -0.0000],\n",
       "        [-0.2000, -0.0000],\n",
       "        [-0.2000, -0.0000],\n",
       "        [-0.2000, -0.0000],\n",
       "        [-0.2000, -0.0000],\n",
       "        [-0.2000, -0.0000],\n",
       "        [-0.2000, -0.0000],\n",
       "        [-0.2000, -0.0000],\n",
       "        [-0.2000, -0.0000],\n",
       "        [-0.2000, -0.0000],\n",
       "        [-0.2000, -0.0000]])"
      ]
     },
     "execution_count": 155,
     "metadata": {},
     "output_type": "execute_result"
    }
   ],
   "source": [
    "(ab)/(torch.norm(ab, dim=1)*ai_norm).repeat(2, 1).T"
   ]
  },
  {
   "cell_type": "code",
   "execution_count": 166,
   "metadata": {},
   "outputs": [
    {
     "data": {
      "text/plain": [
       "tensor([[ 5.,  5.],\n",
       "        [ 5.,  5.],\n",
       "        [ 5.,  5.],\n",
       "        [ 5.,  5.],\n",
       "        [ 5.,  5.],\n",
       "        [ 5.,  5.],\n",
       "        [ 5.,  5.],\n",
       "        [ 5.,  5.],\n",
       "        [ 5.,  5.],\n",
       "        [ 5.,  5.],\n",
       "        [ 5.,  5.],\n",
       "        [ 5.,  5.],\n",
       "        [ 5.,  5.],\n",
       "        [ 5.,  5.],\n",
       "        [ 5.,  5.],\n",
       "        [ 5.,  5.],\n",
       "        [ 5.,  5.],\n",
       "        [ 5.,  5.],\n",
       "        [ 5.,  5.],\n",
       "        [ 5.,  5.],\n",
       "        [ 5.,  5.],\n",
       "        [ 5.,  5.],\n",
       "        [ 5.,  5.],\n",
       "        [-5., -5.],\n",
       "        [-5., -5.],\n",
       "        [-5., -5.],\n",
       "        [-5., -5.],\n",
       "        [-5., -5.],\n",
       "        [-5., -5.],\n",
       "        [-5., -5.],\n",
       "        [-5., -5.],\n",
       "        [-5., -5.],\n",
       "        [-5., -5.],\n",
       "        [-5., -5.],\n",
       "        [-5., -5.],\n",
       "        [-5., -5.],\n",
       "        [-5., -5.],\n",
       "        [-5., -5.],\n",
       "        [-5., -5.],\n",
       "        [-5., -5.],\n",
       "        [-5., -5.],\n",
       "        [-5., -5.],\n",
       "        [-5., -5.],\n",
       "        [-5., -5.],\n",
       "        [-5., -5.]])"
      ]
     },
     "execution_count": 166,
     "metadata": {},
     "output_type": "execute_result"
    }
   ],
   "source": [
    "ai_norm.repeat(2, 1).T"
   ]
  },
  {
   "cell_type": "code",
   "execution_count": 167,
   "metadata": {},
   "outputs": [
    {
     "data": {
      "text/plain": [
       "tensor([[ 5.,  0.],\n",
       "        [ 5.,  0.],\n",
       "        [ 5.,  0.],\n",
       "        [ 5.,  0.],\n",
       "        [ 5.,  0.],\n",
       "        [ 5.,  0.],\n",
       "        [ 5.,  0.],\n",
       "        [ 5.,  0.],\n",
       "        [ 5.,  0.],\n",
       "        [ 5.,  0.],\n",
       "        [ 5.,  0.],\n",
       "        [ 5.,  0.],\n",
       "        [ 5.,  0.],\n",
       "        [ 5.,  0.],\n",
       "        [ 5.,  0.],\n",
       "        [ 5.,  0.],\n",
       "        [ 5.,  0.],\n",
       "        [ 5.,  0.],\n",
       "        [ 5.,  0.],\n",
       "        [ 5.,  0.],\n",
       "        [ 5.,  0.],\n",
       "        [ 5.,  0.],\n",
       "        [ 5.,  0.],\n",
       "        [-5., -0.],\n",
       "        [-5., -0.],\n",
       "        [-5., -0.],\n",
       "        [-5., -0.],\n",
       "        [-5., -0.],\n",
       "        [-5., -0.],\n",
       "        [-5., -0.],\n",
       "        [-5., -0.],\n",
       "        [-5., -0.],\n",
       "        [-5., -0.],\n",
       "        [-5., -0.],\n",
       "        [-5., -0.],\n",
       "        [-5., -0.],\n",
       "        [-5., -0.],\n",
       "        [-5., -0.],\n",
       "        [-5., -0.],\n",
       "        [-5., -0.],\n",
       "        [-5., -0.],\n",
       "        [-5., -0.],\n",
       "        [-5., -0.],\n",
       "        [-5., -0.],\n",
       "        [-5., -0.]])"
      ]
     },
     "execution_count": 167,
     "metadata": {},
     "output_type": "execute_result"
    }
   ],
   "source": [
    "(ab/torch.norm(ab, dim=1).repeat(2, 1).T)*ai_norm.repeat(2, 1).T"
   ]
  },
  {
   "cell_type": "code",
   "execution_count": 158,
   "metadata": {},
   "outputs": [
    {
     "data": {
      "text/plain": [
       "tensor([10., 10., 10., 10., 10., 10., 10., 10., 10., 10., 10., 10., 10., 10.,\n",
       "        10., 10., 10., 10., 10., 10., 10., 10., 10., 10., 10., 10., 10., 10.,\n",
       "        10., 10., 10., 10., 10., 10., 10., 10., 10., 10., 10., 10., 10., 10.,\n",
       "        10., 10., 10.])"
      ]
     },
     "execution_count": 158,
     "metadata": {},
     "output_type": "execute_result"
    }
   ],
   "source": [
    "torch.norm(ab, dim=1)"
   ]
  },
  {
   "cell_type": "code",
   "execution_count": 152,
   "metadata": {},
   "outputs": [
    {
     "data": {
      "text/plain": [
       "tensor([[-4.8000,  0.0000],\n",
       "        [-4.8000,  0.0000],\n",
       "        [-4.8000,  0.0000],\n",
       "        [-4.8000,  0.0000],\n",
       "        [-4.8000,  0.0000],\n",
       "        [-4.8000,  0.0000],\n",
       "        [-4.8000,  0.0000],\n",
       "        [-4.8000,  0.0000],\n",
       "        [-4.8000,  0.0000],\n",
       "        [-4.8000,  0.0000],\n",
       "        [-4.8000,  0.0000],\n",
       "        [-4.8000,  0.0000],\n",
       "        [-4.8000,  0.0000],\n",
       "        [-4.8000,  0.0000],\n",
       "        [-4.8000,  0.0000],\n",
       "        [-4.8000,  0.0000],\n",
       "        [-4.8000,  0.0000],\n",
       "        [-4.8000,  0.0000],\n",
       "        [-4.8000,  0.0000],\n",
       "        [-4.8000,  0.0000],\n",
       "        [-4.8000,  0.0000],\n",
       "        [-4.8000,  0.0000],\n",
       "        [-4.8000,  0.0000],\n",
       "        [-5.2000,  0.0000],\n",
       "        [-5.2000,  0.0000],\n",
       "        [-5.2000,  0.0000],\n",
       "        [-5.2000,  0.0000],\n",
       "        [-5.2000,  0.0000],\n",
       "        [-5.2000,  0.0000],\n",
       "        [-5.2000,  0.0000],\n",
       "        [-5.2000,  0.0000],\n",
       "        [-5.2000,  0.0000],\n",
       "        [-5.2000,  0.0000],\n",
       "        [-5.2000,  0.0000],\n",
       "        [-5.2000,  0.0000],\n",
       "        [-5.2000,  0.0000],\n",
       "        [-5.2000,  0.0000],\n",
       "        [-5.2000,  0.0000],\n",
       "        [-5.2000,  0.0000],\n",
       "        [-5.2000,  0.0000],\n",
       "        [-5.2000,  0.0000],\n",
       "        [-5.2000,  0.0000],\n",
       "        [-5.2000,  0.0000],\n",
       "        [-5.2000,  0.0000],\n",
       "        [-5.2000,  0.0000]])"
      ]
     },
     "execution_count": 152,
     "metadata": {},
     "output_type": "execute_result"
    }
   ],
   "source": [
    "neighbor_point"
   ]
  },
  {
   "cell_type": "code",
   "execution_count": null,
   "metadata": {},
   "outputs": [
    {
     "data": {
      "text/plain": [
       "torch.Size([45, 2])"
      ]
     },
     "execution_count": 149,
     "metadata": {},
     "output_type": "execute_result"
    }
   ],
   "source": [
    "(torch.norm(ab, dim=1)*ai_norm).repeat(2, 1).T"
   ]
  },
  {
   "cell_type": "code",
   "execution_count": 150,
   "metadata": {},
   "outputs": [
    {
     "data": {
      "text/plain": [
       "tensor([[ 0.2000,  0.0000],\n",
       "        [ 0.2000,  0.0000],\n",
       "        [ 0.2000,  0.0000],\n",
       "        [ 0.2000,  0.0000],\n",
       "        [ 0.2000,  0.0000],\n",
       "        [ 0.2000,  0.0000],\n",
       "        [ 0.2000,  0.0000],\n",
       "        [ 0.2000,  0.0000],\n",
       "        [ 0.2000,  0.0000],\n",
       "        [ 0.2000,  0.0000],\n",
       "        [ 0.2000,  0.0000],\n",
       "        [ 0.2000,  0.0000],\n",
       "        [ 0.2000,  0.0000],\n",
       "        [ 0.2000,  0.0000],\n",
       "        [ 0.2000,  0.0000],\n",
       "        [ 0.2000,  0.0000],\n",
       "        [ 0.2000,  0.0000],\n",
       "        [ 0.2000,  0.0000],\n",
       "        [ 0.2000,  0.0000],\n",
       "        [ 0.2000,  0.0000],\n",
       "        [ 0.2000,  0.0000],\n",
       "        [ 0.2000,  0.0000],\n",
       "        [ 0.2000,  0.0000],\n",
       "        [-0.2000, -0.0000],\n",
       "        [-0.2000, -0.0000],\n",
       "        [-0.2000, -0.0000],\n",
       "        [-0.2000, -0.0000],\n",
       "        [-0.2000, -0.0000],\n",
       "        [-0.2000, -0.0000],\n",
       "        [-0.2000, -0.0000],\n",
       "        [-0.2000, -0.0000],\n",
       "        [-0.2000, -0.0000],\n",
       "        [-0.2000, -0.0000],\n",
       "        [-0.2000, -0.0000],\n",
       "        [-0.2000, -0.0000],\n",
       "        [-0.2000, -0.0000],\n",
       "        [-0.2000, -0.0000],\n",
       "        [-0.2000, -0.0000],\n",
       "        [-0.2000, -0.0000],\n",
       "        [-0.2000, -0.0000],\n",
       "        [-0.2000, -0.0000],\n",
       "        [-0.2000, -0.0000],\n",
       "        [-0.2000, -0.0000],\n",
       "        [-0.2000, -0.0000],\n",
       "        [-0.2000, -0.0000]])"
      ]
     },
     "execution_count": 150,
     "metadata": {},
     "output_type": "execute_result"
    }
   ],
   "source": [
    "(ab)/(torch.norm(ab, dim=1)*ai_norm).repeat(2, 1).T"
   ]
  },
  {
   "cell_type": "code",
   "execution_count": 101,
   "metadata": {},
   "outputs": [
    {
     "data": {
      "text/plain": [
       "tensor([ 5.,  5.,  5.,  5.,  5.,  5.,  5.,  5.,  5.,  5.,  5.,  5.,  5.,  5.,\n",
       "         5.,  5.,  5.,  5.,  5.,  5.,  5.,  5.,  5., -5., -5., -5., -5., -5.,\n",
       "        -5., -5., -5., -5., -5., -5., -5., -5., -5., -5., -5., -5., -5., -5.,\n",
       "        -5., -5., -5.])"
      ]
     },
     "execution_count": 101,
     "metadata": {},
     "output_type": "execute_result"
    }
   ],
   "source": [
    "torch.sum(ap * ab, dim=1)/torch.norm(ab, dim=1)"
   ]
  },
  {
   "cell_type": "code",
   "execution_count": 113,
   "metadata": {},
   "outputs": [
    {
     "data": {
      "text/plain": [
       "tensor([ 50.,  50.,  50.,  50.,  50.,  50.,  50.,  50.,  50.,  50.,  50.,  50.,\n",
       "         50.,  50.,  50.,  50.,  50.,  50.,  50.,  50.,  50.,  50.,  50., -50.,\n",
       "        -50., -50., -50., -50., -50., -50., -50., -50., -50., -50., -50., -50.,\n",
       "        -50., -50., -50., -50., -50., -50., -50., -50., -50.])"
      ]
     },
     "execution_count": 113,
     "metadata": {},
     "output_type": "execute_result"
    }
   ],
   "source": [
    "torch.norm(ab, dim=1)*ai_norm"
   ]
  },
  {
   "cell_type": "code",
   "execution_count": null,
   "metadata": {},
   "outputs": [],
   "source": [
    "# 点と線分の距離と最近接点を求める関数\n",
    "def distance_point2line(p, lines): # いずれもtorch.tensor\n",
    "    a = lines[:, 0:2]\n",
    "    b = lines[:, 2:4]\n",
    "    ap = p - a\n",
    "    ab = b - a\n",
    "    ba = a - b\n",
    "    bp = p - b\n",
    "\n",
    "    if torch.dot(ap, ab) < 0:\n",
    "        distance = torch.norm(ap)\n",
    "        neighbor_point = a\n",
    "\n",
    "    elif np.dot(bp, ba) < 0:\n",
    "        distance = torch.norm(p - b)\n",
    "        neighbor_point = b\n",
    "\n",
    "    else:\n",
    "        ai_norm = np.dot(ap, ab)/torch.norm(ab)\n",
    "        neighbor_point = a + (ab)/torch.norm(ab)*ai_norm\n",
    "        distance = torch.norm(p - neighbor_point)\n",
    "    return (neighbor_point, distance)"
   ]
  },
  {
   "cell_type": "code",
   "execution_count": 22,
   "metadata": {},
   "outputs": [
    {
     "data": {
      "image/png": "[encoded data removed]",
      "text/plain": [
       "<Figure size 500x300 with 1 Axes>"
      ]
     },
     "metadata": {},
     "output_type": "display_data"
    }
   ],
   "source": [
    "import pandas as pd\n",
    "\n",
    "# Load the data from monitor.csv\n",
    "df = pd.read_csv('logs/monitor.csv', header=1)\n",
    "#df[\"r\"].plot()\n",
    "\n",
    "fig1, ax = plt.subplots(figsize=(5, 3))\n",
    "ax.plot(df.r)\n",
    "#ax.legend()\n",
    "#ax.set_title('タイトル')\n",
    "ax.set_ylim(1.1, 1.35)\n",
    "ax.set_xlabel('Episodes')\n",
    "ax.set_ylabel('reward(mean of velocity)')\n",
    "plt.show()\n"
   ]
  },
  {
   "cell_type": "code",
   "execution_count": 119,
   "metadata": {},
   "outputs": [
    {
     "data": {
      "image/png": "[encoded data removed]",
      "text/plain": [
       "<Figure size 500x300 with 1 Axes>"
      ]
     },
     "metadata": {},
     "output_type": "display_data"
    }
   ],
   "source": [
    "fig2, ax = plt.subplots(figsize=(5, 3))\n",
    "ax.plot(df.action_ratio_of_0)\n",
    "#ax.legend()\n",
    "#ax.set_title('タイトル')\n",
    "ax.set_ylim(0, 1.01)\n",
    "ax.set_xlabel('Episodes')\n",
    "ax.set_ylabel('action_ratio_of_0')\n",
    "plt.show()"
   ]
  },
  {
   "cell_type": "code",
   "execution_count": 4,
   "metadata": {},
   "outputs": [],
   "source": [
    "def initial_state_corridor(n):\n",
    "    _ = torch.manual_seed(42)\n",
    "\n",
    "    # first n people go right, second n people go left\n",
    "    state = torch.zeros((n * 2, 6))\n",
    "\n",
    "    # positions\n",
    "    state[:n, 0:2] = ((torch.rand((n, 2)) - 0.5) * 2.0) * torch.tensor([25.0, 4.5])\n",
    "    state[n:, 0:2] = ((torch.rand((n, 2)) - 0.5) * 2.0) * torch.tensor([25.0, 4.5])\n",
    "\n",
    "    # velocity\n",
    "    state[:n, 2] = torch.normal(torch.full((n,), 1.34), 0.26)\n",
    "    state[n:, 2] = torch.normal(torch.full((n,), -1.34), 0.26)\n",
    "\n",
    "    # x destination\n",
    "    state[:n, 4] = 100.0\n",
    "    state[n:, 4] = -100.0\n",
    "\n",
    "    return state\n",
    "\n",
    "initial_state = initial_state_corridor(60)"
   ]
  },
  {
   "cell_type": "code",
   "execution_count": 5,
   "metadata": {},
   "outputs": [],
   "source": [
    "upper_wall = torch.stack([torch.linspace(-30, 30, 600), torch.full((600,), 5)], -1)\n",
    "lower_wall = torch.stack([torch.linspace(-30, 30, 600), torch.full((600,), -5)], -1)\n",
    "ped_space = socialforce.potentials.PedSpacePotential([upper_wall, lower_wall])\n",
    "add_wall = torch.stack([torch.linspace(-5, 5, 600), torch.linspace(0, 0, 600)], -1)\n",
    "ped_space = socialforce.potentials.PedSpacePotential([upper_wall, lower_wall, add_wall])"
   ]
  },
  {
   "cell_type": "code",
   "execution_count": 6,
   "metadata": {},
   "outputs": [],
   "source": [
    "ped_ped = socialforce.potentials.PedPedPotential()"
   ]
  },
  {
   "cell_type": "code",
   "execution_count": 46,
   "metadata": {},
   "outputs": [
    {
     "data": {
      "image/png": "[encoded data removed]",
      "text/plain": [
       "<Figure size 1200x200 with 2 Axes>"
      ]
     },
     "metadata": {},
     "output_type": "display_data"
    }
   ],
   "source": [
    "# HIDE CODE\n",
    "simulator = socialforce.Simulator(ped_ped=ped_ped, ped_space=ped_space,\n",
    "                                  oversampling=2, delta_t=0.08)\n",
    "simulator.integrator = socialforce.simulator.PeriodicBoundary(\n",
    "    simulator.integrator, x_boundary=[-25.0, 25.0])\n",
    "\n",
    "with torch.no_grad():\n",
    "    states_sf = simulator.run(states_sf[-1], 100)\n",
    "\n",
    "with socialforce.show.track_canvas(ncols=2, figsize=(12, 2), tight_layout=False) as (ax1, ax2):\n",
    "    socialforce.show.states(ax1, states_sf[0:1], monochrome=True)\n",
    "    socialforce.show.space(ax1, ped_space)\n",
    "    ax1.text(0.1, 0.1, '$t = 0s$', transform=ax1.transAxes)\n",
    "    ax1.set_xlim(-25, 25)\n",
    "\n",
    "    socialforce.show.states(ax2, states_sf[99:100], monochrome=True)\n",
    "    socialforce.show.space(ax2, ped_space)\n",
    "    ax2.text(0.1, 0.1, '$t = 20s$', transform=ax2.transAxes)\n",
    "    ax2.set_xlim(-25, 25)\n"
   ]
  },
  {
   "cell_type": "code",
   "execution_count": 84,
   "metadata": {},
   "outputs": [
    {
     "data": {
      "text/plain": [
       "1.2921454"
      ]
     },
     "execution_count": 84,
     "metadata": {},
     "output_type": "execute_result"
    }
   ],
   "source": [
    "np.linalg.norm(states_sf[:, :, 2:4], axis=-1).mean()"
   ]
  },
  {
   "cell_type": "code",
   "execution_count": null,
   "metadata": {},
   "outputs": [
    {
     "data": {
      "text/plain": [
       "1.3381147994099758"
      ]
     },
     "execution_count": 83,
     "metadata": {},
     "output_type": "execute_result"
    }
   ],
   "source": []
  },
  {
   "cell_type": "code",
   "execution_count": null,
   "metadata": {},
   "outputs": [],
   "source": []
  },
  {
   "cell_type": "code",
   "execution_count": null,
   "metadata": {},
   "outputs": [],
   "source": []
  },
  {
   "cell_type": "code",
   "execution_count": 79,
   "metadata": {},
   "outputs": [
    {
     "data": {
      "text/plain": [
       "tensor([[[ 1.3246e+00,  1.9679e-01],\n",
       "         [ 9.6292e-01,  6.1346e-01],\n",
       "         [ 1.2065e+00, -2.7691e-02],\n",
       "         ...,\n",
       "         [-1.2804e+00, -3.5334e-02],\n",
       "         [-8.4822e-01,  2.7600e-01],\n",
       "         [-7.3534e-01,  2.7332e-01]],\n",
       "\n",
       "        [[ 1.3276e+00,  1.6742e-01],\n",
       "         [ 1.1098e+00,  7.3109e-01],\n",
       "         [ 1.2056e+00, -4.0028e-02],\n",
       "         ...,\n",
       "         [-1.2850e+00, -3.6391e-02],\n",
       "         [-8.6154e-01,  3.6766e-01],\n",
       "         [-7.4553e-01,  3.4290e-01]],\n",
       "\n",
       "        [[ 1.3267e+00,  1.3773e-01],\n",
       "         [ 1.2331e+00,  7.2765e-01],\n",
       "         [ 1.2073e+00, -5.0976e-02],\n",
       "         ...,\n",
       "         [-1.2889e+00, -3.7225e-02],\n",
       "         [-9.0749e-01,  4.2681e-01],\n",
       "         [-7.5422e-01,  3.8985e-01]],\n",
       "\n",
       "        ...,\n",
       "\n",
       "        [[ 1.0721e+00, -1.2816e-02],\n",
       "         [ 1.5440e+00, -1.0861e-02],\n",
       "         [ 1.2072e+00, -1.0177e-02],\n",
       "         ...,\n",
       "         [-1.2075e+00, -7.6839e-02],\n",
       "         [-1.0895e+00,  1.4359e-02],\n",
       "         [-7.7145e-01,  3.2774e-02]],\n",
       "\n",
       "        [[ 1.0298e+00, -5.7136e-03],\n",
       "         [ 1.5436e+00, -1.1537e-02],\n",
       "         [ 1.2068e+00, -5.4882e-03],\n",
       "         ...,\n",
       "         [-1.1822e+00, -5.0625e-02],\n",
       "         [-1.0853e+00,  1.2692e-02],\n",
       "         [-7.7149e-01,  3.2335e-02]],\n",
       "\n",
       "        [[ 9.6289e-01,  1.4599e-02],\n",
       "         [ 1.5430e+00, -1.2100e-02],\n",
       "         [ 1.2065e+00, -1.5106e-03],\n",
       "         ...,\n",
       "         [-1.1583e+00, -1.3436e-02],\n",
       "         [-1.0804e+00,  1.2876e-02],\n",
       "         [-7.7105e-01,  3.2174e-02]]])"
      ]
     },
     "execution_count": 79,
     "metadata": {},
     "output_type": "execute_result"
    }
   ],
   "source": [
    "states_sf[:, :, 2:4]"
   ]
  },
  {
   "cell_type": "code",
   "execution_count": 55,
   "metadata": {},
   "outputs": [
    {
     "data": {
      "text/plain": [
       "1"
      ]
     },
     "execution_count": 55,
     "metadata": {},
     "output_type": "execute_result"
    }
   ],
   "source": [
    "round(1.4)"
   ]
  },
  {
   "cell_type": "code",
   "execution_count": null,
   "metadata": {},
   "outputs": [
    {
     "data": {
      "text/plain": [
       "(120, 10)"
      ]
     },
     "execution_count": 18,
     "metadata": {},
     "output_type": "execute_result"
    }
   ],
   "source": [
    "states_np[-1].shape"
   ]
  },
  {
   "cell_type": "code",
   "execution_count": 21,
   "metadata": {},
   "outputs": [
    {
     "data": {
      "image/png": "[encoded data removed]",
      "text/plain": [
       "<Figure size 1200x200 with 2 Axes>"
      ]
     },
     "metadata": {},
     "output_type": "display_data"
    }
   ],
   "source": [
    "# HIDE CODE\n",
    "simu = socialforce.Simulator(ped_ped=ped_ped, ped_space=ped_space,\n",
    "                                  oversampling=2, delta_t=0.08)\n",
    "simu.integrator = socialforce.simulator.PeriodicBoundary(\n",
    "    simu.integrator, x_boundary=[-25.0, 25.0])\n",
    "\n",
    "with torch.no_grad():\n",
    "    states_sf = simu.run(states_sf[-1], 250)\n",
    "\n",
    "with socialforce.show.track_canvas(ncols=2, figsize=(12, 2), tight_layout=False) as (ax1, ax2):\n",
    "    socialforce.show.states(ax1, states_sf[0:1], monochrome=True)\n",
    "    socialforce.show.space(ax1, ped_space)\n",
    "    ax1.text(0.1, 0.1, '$t = 0s$', transform=ax1.transAxes)\n",
    "    ax1.set_xlim(-25, 25)\n",
    "\n",
    "    socialforce.show.states(ax2, states_sf[249:250], monochrome=True)\n",
    "    socialforce.show.space(ax2, ped_space)\n",
    "    ax2.text(0.1, 0.1, '$t = 20s$', transform=ax2.transAxes)\n",
    "    ax2.set_xlim(-25, 25)"
   ]
  },
  {
   "cell_type": "code",
   "execution_count": null,
   "metadata": {},
   "outputs": [
    {
     "data": {
      "text/plain": [
       "141.9354705810547"
      ]
     },
     "execution_count": 54,
     "metadata": {},
     "output_type": "execute_result"
    }
   ],
   "source": [
    "torch.norm(torch.mean(input=states_sf[-100:, 2:4], dim=0)).item()"
   ]
  },
  {
   "cell_type": "code",
   "execution_count": 17,
   "metadata": {},
   "outputs": [
    {
     "data": {
      "text/plain": [
       "torch.Size([1, 120, 6])"
      ]
     },
     "execution_count": 17,
     "metadata": {},
     "output_type": "execute_result"
    }
   ],
   "source": [
    "initial_state.unsqueeze(0).shape"
   ]
  },
  {
   "cell_type": "code",
   "execution_count": 64,
   "metadata": {},
   "outputs": [
    {
     "data": {
      "text/plain": [
       "torch.Size([100, 2, 10])"
      ]
     },
     "execution_count": 64,
     "metadata": {},
     "output_type": "execute_result"
    }
   ],
   "source": [
    "states_sf[-100:, 2:4].shape"
   ]
  },
  {
   "cell_type": "code",
   "execution_count": 48,
   "metadata": {},
   "outputs": [
    {
     "data": {
      "text/plain": [
       "tensor([[ 8.6596e+00, -3.1121e+00,  1.2424e+00, -1.9332e-02,  1.1026e-02,\n",
       "          2.0722e-02,  1.0000e+02,  0.0000e+00,  5.0000e-01,  1.2546e+00],\n",
       "        [ 6.9165e+00, -2.3440e+00, -1.4098e+00,  3.5140e-02,  4.9648e-03,\n",
       "         -6.7229e-03, -1.0000e+02,  0.0000e+00,  5.0000e-01,  1.4365e+00]])"
      ]
     },
     "execution_count": 48,
     "metadata": {},
     "output_type": "execute_result"
    }
   ],
   "source": [
    "torch.mean(input=states_sf[-100:, 2:4], dim=0)"
   ]
  },
  {
   "cell_type": "code",
   "execution_count": 35,
   "metadata": {},
   "outputs": [],
   "source": [
    "states = torch.zeros((45, 6)) #位置，速度，目的地 y velocity=0\n",
    "\n",
    "for i in range(45):\n",
    "    if i%2 == 0:\n",
    "        states[i, 0:2] = torch.tensor([-20 + 5*(i%9), -4 + 2*(i//9)]) #整列配置5×9\n",
    "        states[i, 2] = torch.normal(torch.full((1, ), 1.34), 0.26) #x velocity y velocityは変更していないので0\n",
    "        states[i, 4] = 100.0 #x destination\n",
    "    else:\n",
    "        states[i, 0:2] = torch.tensor([-20 + 5*(i%9), -4 + 2*(i//9)])\n",
    "        states[i, 2] = torch.normal(torch.full((1, ), -1.34), 0.26) #x velocity y velocityは変更していないので0\n",
    "        states[i, 4] = -100.0 #x destination"
   ]
  },
  {
   "cell_type": "code",
   "execution_count": 41,
   "metadata": {},
   "outputs": [
    {
     "data": {
      "text/plain": [
       "torch.Size([6])"
      ]
     },
     "execution_count": 41,
     "metadata": {},
     "output_type": "execute_result"
    }
   ],
   "source": [
    "states[-1].shape"
   ]
  },
  {
   "cell_type": "code",
   "execution_count": 38,
   "metadata": {},
   "outputs": [
    {
     "data": {
      "text/plain": [
       "torch.Size([120, 6])"
      ]
     },
     "execution_count": 38,
     "metadata": {},
     "output_type": "execute_result"
    }
   ],
   "source": [
    "initial_state.shape"
   ]
  },
  {
   "cell_type": "code",
   "execution_count": 6,
   "metadata": {},
   "outputs": [
    {
     "data": {
      "text/plain": [
       "tensor([-20,  -4])"
      ]
     },
     "execution_count": 6,
     "metadata": {},
     "output_type": "execute_result"
    }
   ],
   "source": [
    "torch.tensor([-20, -4])"
   ]
  },
  {
   "cell_type": "code",
   "execution_count": 29,
   "metadata": {},
   "outputs": [
    {
     "data": {
      "text/plain": [
       "tensor([0.9226])"
      ]
     },
     "execution_count": 29,
     "metadata": {},
     "output_type": "execute_result"
    }
   ],
   "source": [
    "torch.normal(torch.full((1, ), 1.34), 0.26)"
   ]
  },
  {
   "cell_type": "code",
   "execution_count": 12,
   "metadata": {},
   "outputs": [
    {
     "data": {
      "text/plain": [
       "2"
      ]
     },
     "execution_count": 12,
     "metadata": {},
     "output_type": "execute_result"
    }
   ],
   "source": [
    "t =  torch.Tensor([[1, 2, 3], [4, 5, 6]])\n",
    "len(t.shape)"
   ]
  },
  {
   "cell_type": "code",
   "execution_count": 13,
   "metadata": {},
   "outputs": [
    {
     "data": {
      "text/plain": [
       "2"
      ]
     },
     "execution_count": 13,
     "metadata": {},
     "output_type": "execute_result"
    }
   ],
   "source": [
    "t.unsqueeze(0)\n",
    "len(t.shape)"
   ]
  },
  {
   "cell_type": "code",
   "execution_count": 24,
   "metadata": {},
   "outputs": [],
   "source": [
    "a = torch.tensor([[1, 1, 1, 1, 1, 1, 1, 1, 1, 1],\n",
    "             [1, 1, 1, 1, 1, 1, 1, 1, 1, 1],\n",
    "             [1, 1, 1, 1, 1, 1, 1, 1, 1, 1],\n",
    "             [1, 1, 1, 1, 1, 1, 1, 1, 1, 1],\n",
    "             [11, 11, 1, 1, 1, 1, 1, 1, 1, 1],\n",
    "             [11, 11, 1, 1, 1, 1, 1, 1, 1, 1]], dtype=torch.float32)"
   ]
  },
  {
   "cell_type": "code",
   "execution_count": 30,
   "metadata": {},
   "outputs": [],
   "source": [
    "a = a[-1, :]"
   ]
  },
  {
   "cell_type": "code",
   "execution_count": 36,
   "metadata": {},
   "outputs": [
    {
     "data": {
      "text/plain": [
       "tensor([[-30.0000,   5.0000],\n",
       "        [-29.8998,   5.0000],\n",
       "        [-29.7997,   5.0000],\n",
       "        ...,\n",
       "        [ 29.7997,   5.0000],\n",
       "        [ 29.8998,   5.0000],\n",
       "        [ 30.0000,   5.0000]])"
      ]
     },
     "execution_count": 36,
     "metadata": {},
     "output_type": "execute_result"
    }
   ],
   "source": [
    "torch.stack([torch.linspace(-30, 30, 600), torch.linspace(5, 5, 600)], -1)"
   ]
  },
  {
   "cell_type": "code",
   "execution_count": 33,
   "metadata": {},
   "outputs": [
    {
     "data": {
      "text/plain": [
       "tensor([-5, -5, -5, -5, -5, -5, -5, -5, -5, -5, -5, -5, -5, -5, -5, -5, -5, -5,\n",
       "        -5, -5, -5, -5, -5, -5, -5, -5, -5, -5, -5, -5, -5, -5, -5, -5, -5, -5,\n",
       "        -5, -5, -5, -5, -5, -5, -5, -5, -5, -5, -5, -5, -5, -5, -5, -5, -5, -5,\n",
       "        -5, -5, -5, -5, -5, -5, -5, -5, -5, -5, -5, -5, -5, -5, -5, -5, -5, -5,\n",
       "        -5, -5, -5, -5, -5, -5, -5, -5, -5, -5, -5, -5, -5, -5, -5, -5, -5, -5,\n",
       "        -5, -5, -5, -5, -5, -5, -5, -5, -5, -5, -5, -5, -5, -5, -5, -5, -5, -5,\n",
       "        -5, -5, -5, -5, -5, -5, -5, -5, -5, -5, -5, -5, -5, -5, -5, -5, -5, -5,\n",
       "        -5, -5, -5, -5, -5, -5, -5, -5, -5, -5, -5, -5, -5, -5, -5, -5, -5, -5,\n",
       "        -5, -5, -5, -5, -5, -5, -5, -5, -5, -5, -5, -5, -5, -5, -5, -5, -5, -5,\n",
       "        -5, -5, -5, -5, -5, -5, -5, -5, -5, -5, -5, -5, -5, -5, -5, -5, -5, -5,\n",
       "        -5, -5, -5, -5, -5, -5, -5, -5, -5, -5, -5, -5, -5, -5, -5, -5, -5, -5,\n",
       "        -5, -5, -5, -5, -5, -5, -5, -5, -5, -5, -5, -5, -5, -5, -5, -5, -5, -5,\n",
       "        -5, -5, -5, -5, -5, -5, -5, -5, -5, -5, -5, -5, -5, -5, -5, -5, -5, -5,\n",
       "        -5, -5, -5, -5, -5, -5, -5, -5, -5, -5, -5, -5, -5, -5, -5, -5, -5, -5,\n",
       "        -5, -5, -5, -5, -5, -5, -5, -5, -5, -5, -5, -5, -5, -5, -5, -5, -5, -5,\n",
       "        -5, -5, -5, -5, -5, -5, -5, -5, -5, -5, -5, -5, -5, -5, -5, -5, -5, -5,\n",
       "        -5, -5, -5, -5, -5, -5, -5, -5, -5, -5, -5, -5, -5, -5, -5, -5, -5, -5,\n",
       "        -5, -5, -5, -5, -5, -5, -5, -5, -5, -5, -5, -5, -5, -5, -5, -5, -5, -5,\n",
       "        -5, -5, -5, -5, -5, -5, -5, -5, -5, -5, -5, -5, -5, -5, -5, -5, -5, -5,\n",
       "        -5, -5, -5, -5, -5, -5, -5, -5, -5, -5, -5, -5, -5, -5, -5, -5, -5, -5,\n",
       "        -5, -5, -5, -5, -5, -5, -5, -5, -5, -5, -5, -5, -5, -5, -5, -5, -5, -5,\n",
       "        -5, -5, -5, -5, -5, -5, -5, -5, -5, -5, -5, -5, -5, -5, -5, -5, -5, -5,\n",
       "        -5, -5, -5, -5, -5, -5, -5, -5, -5, -5, -5, -5, -5, -5, -5, -5, -5, -5,\n",
       "        -5, -5, -5, -5, -5, -5, -5, -5, -5, -5, -5, -5, -5, -5, -5, -5, -5, -5,\n",
       "        -5, -5, -5, -5, -5, -5, -5, -5, -5, -5, -5, -5, -5, -5, -5, -5, -5, -5,\n",
       "        -5, -5, -5, -5, -5, -5, -5, -5, -5, -5, -5, -5, -5, -5, -5, -5, -5, -5,\n",
       "        -5, -5, -5, -5, -5, -5, -5, -5, -5, -5, -5, -5, -5, -5, -5, -5, -5, -5,\n",
       "        -5, -5, -5, -5, -5, -5, -5, -5, -5, -5, -5, -5, -5, -5, -5, -5, -5, -5,\n",
       "        -5, -5, -5, -5, -5, -5, -5, -5, -5, -5, -5, -5, -5, -5, -5, -5, -5, -5,\n",
       "        -5, -5, -5, -5, -5, -5, -5, -5, -5, -5, -5, -5, -5, -5, -5, -5, -5, -5,\n",
       "        -5, -5, -5, -5, -5, -5, -5, -5, -5, -5, -5, -5, -5, -5, -5, -5, -5, -5,\n",
       "        -5, -5, -5, -5, -5, -5, -5, -5, -5, -5, -5, -5, -5, -5, -5, -5, -5, -5,\n",
       "        -5, -5, -5, -5, -5, -5, -5, -5, -5, -5, -5, -5, -5, -5, -5, -5, -5, -5,\n",
       "        -5, -5, -5, -5, -5, -5])"
      ]
     },
     "execution_count": 33,
     "metadata": {},
     "output_type": "execute_result"
    }
   ],
   "source": [
    "torch.full((600,), -5)"
   ]
  },
  {
   "cell_type": "code",
   "execution_count": null,
   "metadata": {},
   "outputs": [],
   "source": []
  }
 ],
 "metadata": {
  "kernelspec": {
   "display_name": "Python 3",
   "language": "python",
   "name": "python3"
  },
  "language_info": {
   "codemirror_mode": {
    "name": "ipython",
    "version": 3
   },
   "file_extension": ".py",
   "mimetype": "text/x-python",
   "name": "python",
   "nbconvert_exporter": "python",
   "pygments_lexer": "ipython3",
   "version": "3.11.5"
  }
 },
 "nbformat": 4,
 "nbformat_minor": 2
}
